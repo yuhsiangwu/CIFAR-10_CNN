{
  "nbformat": 4,
  "nbformat_minor": 0,
  "metadata": {
    "colab": {
      "name": "1082990deep_learning_hw",
      "provenance": [],
      "collapsed_sections": [],
      "include_colab_link": true
    },
    "kernelspec": {
      "name": "python3",
      "display_name": "Python 3"
    },
    "accelerator": "GPU",
    "widgets": {
      "application/vnd.jupyter.widget-state+json": {
        "97759fb0b13540f3b002b3fbd904f45b": {
          "model_module": "@jupyter-widgets/controls",
          "model_name": "VBoxModel",
          "model_module_version": "1.5.0",
          "state": {
            "_dom_classes": [
              "widget-interact"
            ],
            "_model_module": "@jupyter-widgets/controls",
            "_model_module_version": "1.5.0",
            "_model_name": "VBoxModel",
            "_view_count": null,
            "_view_module": "@jupyter-widgets/controls",
            "_view_module_version": "1.5.0",
            "_view_name": "VBoxView",
            "box_style": "",
            "children": [
              "IPY_MODEL_34624a0fc4694281bb594e15f4f2920f",
              "IPY_MODEL_790deb3cf65a41f2ab7e94a43025d13b"
            ],
            "layout": "IPY_MODEL_54a8732dd8ff4700a24d4315a716908e"
          }
        },
        "34624a0fc4694281bb594e15f4f2920f": {
          "model_module": "@jupyter-widgets/controls",
          "model_name": "BoundedIntTextModel",
          "model_module_version": "1.5.0",
          "state": {
            "_dom_classes": [],
            "_model_module": "@jupyter-widgets/controls",
            "_model_module_version": "1.5.0",
            "_model_name": "BoundedIntTextModel",
            "_view_count": null,
            "_view_module": "@jupyter-widgets/controls",
            "_view_module_version": "1.5.0",
            "_view_name": "IntTextView",
            "continuous_update": false,
            "description": "idx",
            "description_tooltip": null,
            "disabled": false,
            "layout": "IPY_MODEL_5379274b8d0e4494899dbe079c4d4761",
            "max": 9999,
            "min": 0,
            "step": 1,
            "style": "IPY_MODEL_1966a8e858b2495a916cd7a4aef43450",
            "value": 938
          }
        },
        "790deb3cf65a41f2ab7e94a43025d13b": {
          "model_module": "@jupyter-widgets/output",
          "model_name": "OutputModel",
          "model_module_version": "1.0.0",
          "state": {
            "_dom_classes": [],
            "_model_module": "@jupyter-widgets/output",
            "_model_module_version": "1.0.0",
            "_model_name": "OutputModel",
            "_view_count": null,
            "_view_module": "@jupyter-widgets/output",
            "_view_module_version": "1.0.0",
            "_view_name": "OutputView",
            "layout": "IPY_MODEL_778365dd27a1409680d33b5700107304",
            "msg_id": "",
            "outputs": [
              {
                "output_type": "stream",
                "name": "stdout",
                "text": [
                  "預測失敗QQ\n"
                ]
              },
              {
                "output_type": "display_data",
                "data": {
                  "text/plain": "<Figure size 720x360 with 2 Axes>",
                  "image/png": "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\n"
                },
                "metadata": {
                  "needs_background": "light"
                }
              }
            ]
          }
        },
        "54a8732dd8ff4700a24d4315a716908e": {
          "model_module": "@jupyter-widgets/base",
          "model_name": "LayoutModel",
          "model_module_version": "1.2.0",
          "state": {
            "_model_module": "@jupyter-widgets/base",
            "_model_module_version": "1.2.0",
            "_model_name": "LayoutModel",
            "_view_count": null,
            "_view_module": "@jupyter-widgets/base",
            "_view_module_version": "1.2.0",
            "_view_name": "LayoutView",
            "align_content": null,
            "align_items": null,
            "align_self": null,
            "border": null,
            "bottom": null,
            "display": null,
            "flex": null,
            "flex_flow": null,
            "grid_area": null,
            "grid_auto_columns": null,
            "grid_auto_flow": null,
            "grid_auto_rows": null,
            "grid_column": null,
            "grid_gap": null,
            "grid_row": null,
            "grid_template_areas": null,
            "grid_template_columns": null,
            "grid_template_rows": null,
            "height": null,
            "justify_content": null,
            "justify_items": null,
            "left": null,
            "margin": null,
            "max_height": null,
            "max_width": null,
            "min_height": null,
            "min_width": null,
            "object_fit": null,
            "object_position": null,
            "order": null,
            "overflow": null,
            "overflow_x": null,
            "overflow_y": null,
            "padding": null,
            "right": null,
            "top": null,
            "visibility": null,
            "width": null
          }
        },
        "5379274b8d0e4494899dbe079c4d4761": {
          "model_module": "@jupyter-widgets/base",
          "model_name": "LayoutModel",
          "model_module_version": "1.2.0",
          "state": {
            "_model_module": "@jupyter-widgets/base",
            "_model_module_version": "1.2.0",
            "_model_name": "LayoutModel",
            "_view_count": null,
            "_view_module": "@jupyter-widgets/base",
            "_view_module_version": "1.2.0",
            "_view_name": "LayoutView",
            "align_content": null,
            "align_items": null,
            "align_self": null,
            "border": null,
            "bottom": null,
            "display": null,
            "flex": null,
            "flex_flow": null,
            "grid_area": null,
            "grid_auto_columns": null,
            "grid_auto_flow": null,
            "grid_auto_rows": null,
            "grid_column": null,
            "grid_gap": null,
            "grid_row": null,
            "grid_template_areas": null,
            "grid_template_columns": null,
            "grid_template_rows": null,
            "height": null,
            "justify_content": null,
            "justify_items": null,
            "left": null,
            "margin": null,
            "max_height": null,
            "max_width": null,
            "min_height": null,
            "min_width": null,
            "object_fit": null,
            "object_position": null,
            "order": null,
            "overflow": null,
            "overflow_x": null,
            "overflow_y": null,
            "padding": null,
            "right": null,
            "top": null,
            "visibility": null,
            "width": null
          }
        },
        "1966a8e858b2495a916cd7a4aef43450": {
          "model_module": "@jupyter-widgets/controls",
          "model_name": "DescriptionStyleModel",
          "model_module_version": "1.5.0",
          "state": {
            "_model_module": "@jupyter-widgets/controls",
            "_model_module_version": "1.5.0",
            "_model_name": "DescriptionStyleModel",
            "_view_count": null,
            "_view_module": "@jupyter-widgets/base",
            "_view_module_version": "1.2.0",
            "_view_name": "StyleView",
            "description_width": ""
          }
        },
        "778365dd27a1409680d33b5700107304": {
          "model_module": "@jupyter-widgets/base",
          "model_name": "LayoutModel",
          "model_module_version": "1.2.0",
          "state": {
            "_model_module": "@jupyter-widgets/base",
            "_model_module_version": "1.2.0",
            "_model_name": "LayoutModel",
            "_view_count": null,
            "_view_module": "@jupyter-widgets/base",
            "_view_module_version": "1.2.0",
            "_view_name": "LayoutView",
            "align_content": null,
            "align_items": null,
            "align_self": null,
            "border": null,
            "bottom": null,
            "display": null,
            "flex": null,
            "flex_flow": null,
            "grid_area": null,
            "grid_auto_columns": null,
            "grid_auto_flow": null,
            "grid_auto_rows": null,
            "grid_column": null,
            "grid_gap": null,
            "grid_row": null,
            "grid_template_areas": null,
            "grid_template_columns": null,
            "grid_template_rows": null,
            "height": null,
            "justify_content": null,
            "justify_items": null,
            "left": null,
            "margin": null,
            "max_height": null,
            "max_width": null,
            "min_height": null,
            "min_width": null,
            "object_fit": null,
            "object_position": null,
            "order": null,
            "overflow": null,
            "overflow_x": null,
            "overflow_y": null,
            "padding": null,
            "right": null,
            "top": null,
            "visibility": null,
            "width": null
          }
        }
      }
    }
  },
  "cells": [
    {
      "cell_type": "markdown",
      "metadata": {
        "id": "view-in-github",
        "colab_type": "text"
      },
      "source": [
        "<a href=\"https://colab.research.google.com/github/yuhsiangwu/CIFAR-10_CNN/blob/main/1082990deep_learning_hw.ipynb\" target=\"_parent\"><img src=\"https://colab.research.google.com/assets/colab-badge.svg\" alt=\"Open In Colab\"/></a>"
      ]
    },
    {
      "cell_type": "code",
      "metadata": {
        "id": "tS5xFeQwe9Xu"
      },
      "source": [
        "# Import some useful packages\n",
        "import matplotlib.pyplot as plt\n",
        "import numpy as np\n",
        "import pandas as pd\n",
        "from ipywidgets import interact, IntSlider, BoundedIntText\n",
        "\n",
        "# Layers for FNN\n",
        "from tensorflow.keras.models import Sequential\n",
        "from tensorflow.keras.layers import Dense, Flatten,Dropout\n",
        "\n",
        "# Layers for CNN\n",
        "from tensorflow.keras.layers import Conv2D, MaxPool2D\n",
        "\n",
        "# For data preprocessing\n",
        "from tensorflow.keras import datasets\n",
        "from tensorflow.keras.utils import to_categorical\n",
        "import tensorflow as tf"
      ],
      "execution_count": null,
      "outputs": []
    },
    {
      "cell_type": "code",
      "metadata": {
        "id": "ITug7sp2TAr5"
      },
      "source": [
        "(X_train, y_train), (X_test, y_test) = tf.keras.datasets.fashion_mnist.load_data()"
      ],
      "execution_count": null,
      "outputs": []
    },
    {
      "cell_type": "code",
      "metadata": {
        "id": "IsA_Z40jayyH"
      },
      "source": [
        "# Reshape size of each image from (28, 28) to (28, 28, 1)\n",
        "X_train = X_train.reshape(-1, 28, 28, 1)\n",
        "X_test = X_test.reshape(-1, 28, 28, 1)"
      ],
      "execution_count": null,
      "outputs": []
    },
    {
      "cell_type": "code",
      "metadata": {
        "id": "4srVd7RaTFO1"
      },
      "source": [
        "# Normalize data range\n",
        "X_train = X_train / X_train.max()\n",
        "X_test = X_test / X_test.max()"
      ],
      "execution_count": null,
      "outputs": []
    },
    {
      "cell_type": "code",
      "source": [
        "y_train=to_categorical(y_train,10)\n",
        "y_test=to_categorical(y_test,10)"
      ],
      "metadata": {
        "id": "48zjr1G00x3e"
      },
      "execution_count": null,
      "outputs": []
    },
    {
      "cell_type": "code",
      "source": [
        "print(X_train.shape)\n",
        "print(X_test.shape)\n",
        "print(y_train.shape)\n",
        "print(y_test.shape)"
      ],
      "metadata": {
        "colab": {
          "base_uri": "https://localhost:8080/"
        },
        "id": "DjkyYIpwipVr",
        "outputId": "69f1af31-dad0-4f4d-8abb-1e59b451d177"
      },
      "execution_count": null,
      "outputs": [
        {
          "output_type": "stream",
          "name": "stdout",
          "text": [
            "(60000, 28, 28, 1)\n",
            "(10000, 28, 28, 1)\n",
            "(60000, 10)\n",
            "(10000, 10)\n"
          ]
        }
      ]
    },
    {
      "cell_type": "code",
      "metadata": {
        "id": "jGEAVln9TRwa"
      },
      "source": [
        "model = Sequential()"
      ],
      "execution_count": null,
      "outputs": []
    },
    {
      "cell_type": "code",
      "source": [
        "# [第一層] 第一層卷積層，注意：卷積層指定輸入資料的格式\n",
        "model.add(Conv2D(128, (3, 3), input_shape=(28, 28, 1), activation='relu'))\n",
        "#我想要Dropout\n",
        "model.add(Dropout(rate=0.1))\n",
        "# [第二層] 池化層\n",
        "model.add(MaxPool2D()) \n",
        "# [第三層] 第二層卷積層\n",
        "model.add(Conv2D(64, (3, 3), activation='relu'))\n",
        "#我想要Dropout\n",
        "model.add(Dropout(rate=0.125))\n",
        "# [第四層] 池化層\n",
        "model.add(MaxPool2D()) \n",
        "model.add(Conv2D(32, (3, 3), activation='relu'))\n",
        "#我想要Dropout\n",
        "model.add(Dropout(rate=0.125))\n",
        "# [第四層] 池化層\n",
        "model.add(MaxPool2D()) \n",
        "# [第五層] 扁平層\n",
        "model.add(Flatten()) \n",
        "model.add(Dense(32, activation='relu'))\n",
        "model.add(Dropout(rate=0.15))\n",
        "model.add(Dense(64, activation='relu'))\n",
        "model.add(Dropout(rate=0.15))\n",
        "model.add(Dense(128, activation='relu'))\n",
        "model.add(Dropout(rate=0.2))\n",
        "model.add(Dense(256, activation='relu'))\n",
        "model.add(Dropout(rate=0.25))\n",
        "# [第八層] 輸出層\n",
        "model.add(Dense(10, activation='softmax'))"
      ],
      "metadata": {
        "id": "mY-EZcNNhlUo"
      },
      "execution_count": null,
      "outputs": []
    },
    {
      "cell_type": "markdown",
      "metadata": {
        "id": "GWdFSj9OcYWl"
      },
      "source": [
        "### 編譯模型: 設定模型訓練時的設定\n",
        "\n",
        "- Optimizer: Stochastic Gradient Descent (SGD)\n",
        "- Loss: categorical cross-entropy "
      ]
    },
    {
      "cell_type": "code",
      "metadata": {
        "id": "86fvl2DHcKwj"
      },
      "source": [
        "model.compile(loss='categorical_crossentropy', \n",
        "              optimizer='SGD', \n",
        "              metrics=['categorical_accuracy'])"
      ],
      "execution_count": null,
      "outputs": []
    },
    {
      "cell_type": "code",
      "metadata": {
        "id": "CfRSwesrcKuD",
        "colab": {
          "base_uri": "https://localhost:8080/"
        },
        "outputId": "8561fd09-630c-4133-c185-4d0d37e44f16"
      },
      "source": [
        "model.summary()"
      ],
      "execution_count": null,
      "outputs": [
        {
          "output_type": "stream",
          "name": "stdout",
          "text": [
            "Model: \"sequential_9\"\n",
            "_________________________________________________________________\n",
            " Layer (type)                Output Shape              Param #   \n",
            "=================================================================\n",
            " conv2d_24 (Conv2D)          (None, 26, 26, 128)       1280      \n",
            "                                                                 \n",
            " dropout_49 (Dropout)        (None, 26, 26, 128)       0         \n",
            "                                                                 \n",
            " max_pooling2d_23 (MaxPoolin  (None, 13, 13, 128)      0         \n",
            " g2D)                                                            \n",
            "                                                                 \n",
            " conv2d_25 (Conv2D)          (None, 11, 11, 64)        73792     \n",
            "                                                                 \n",
            " dropout_50 (Dropout)        (None, 11, 11, 64)        0         \n",
            "                                                                 \n",
            " max_pooling2d_24 (MaxPoolin  (None, 5, 5, 64)         0         \n",
            " g2D)                                                            \n",
            "                                                                 \n",
            " conv2d_26 (Conv2D)          (None, 3, 3, 32)          18464     \n",
            "                                                                 \n",
            " dropout_51 (Dropout)        (None, 3, 3, 32)          0         \n",
            "                                                                 \n",
            " max_pooling2d_25 (MaxPoolin  (None, 1, 1, 32)         0         \n",
            " g2D)                                                            \n",
            "                                                                 \n",
            " flatten_8 (Flatten)         (None, 32)                0         \n",
            "                                                                 \n",
            " dense_35 (Dense)            (None, 32)                1056      \n",
            "                                                                 \n",
            " dropout_52 (Dropout)        (None, 32)                0         \n",
            "                                                                 \n",
            " dense_36 (Dense)            (None, 64)                2112      \n",
            "                                                                 \n",
            " dropout_53 (Dropout)        (None, 64)                0         \n",
            "                                                                 \n",
            " dense_37 (Dense)            (None, 128)               8320      \n",
            "                                                                 \n",
            " dropout_54 (Dropout)        (None, 128)               0         \n",
            "                                                                 \n",
            " dense_38 (Dense)            (None, 256)               33024     \n",
            "                                                                 \n",
            " dropout_55 (Dropout)        (None, 256)               0         \n",
            "                                                                 \n",
            " dense_39 (Dense)            (None, 10)                2570      \n",
            "                                                                 \n",
            "=================================================================\n",
            "Total params: 140,618\n",
            "Trainable params: 140,618\n",
            "Non-trainable params: 0\n",
            "_________________________________________________________________\n"
          ]
        }
      ]
    },
    {
      "cell_type": "markdown",
      "metadata": {
        "id": "-Zz5yHOzdUgv"
      },
      "source": [
        "### 訓練模型: 透過訓練模型來學習分類資料的函數"
      ]
    },
    {
      "cell_type": "code",
      "metadata": {
        "id": "LVdaaVOJcKrk",
        "colab": {
          "base_uri": "https://localhost:8080/"
        },
        "outputId": "c0e1a0de-aaf7-43a8-eca8-1121598eb841"
      },
      "source": [
        "training_history = model.fit(X_train, y_train, \n",
        "                             batch_size=32, \n",
        "                             epochs=30,  \n",
        "                             validation_data=(X_test, y_test))"
      ],
      "execution_count": null,
      "outputs": [
        {
          "output_type": "stream",
          "name": "stdout",
          "text": [
            "Epoch 1/30\n",
            "1875/1875 [==============================] - 13s 7ms/step - loss: 1.8027 - categorical_accuracy: 0.2967 - val_loss: 1.1363 - val_categorical_accuracy: 0.5823\n",
            "Epoch 2/30\n",
            "1875/1875 [==============================] - 11s 6ms/step - loss: 1.0434 - categorical_accuracy: 0.5849 - val_loss: 0.8234 - val_categorical_accuracy: 0.7020\n",
            "Epoch 3/30\n",
            "1875/1875 [==============================] - 10s 5ms/step - loss: 0.8093 - categorical_accuracy: 0.6937 - val_loss: 0.6845 - val_categorical_accuracy: 0.7465\n",
            "Epoch 4/30\n",
            "1875/1875 [==============================] - 10s 5ms/step - loss: 0.7249 - categorical_accuracy: 0.7273 - val_loss: 0.6419 - val_categorical_accuracy: 0.7668\n",
            "Epoch 5/30\n",
            "1875/1875 [==============================] - 10s 5ms/step - loss: 0.6691 - categorical_accuracy: 0.7490 - val_loss: 0.5977 - val_categorical_accuracy: 0.7776\n",
            "Epoch 6/30\n",
            "1875/1875 [==============================] - 9s 5ms/step - loss: 0.6344 - categorical_accuracy: 0.7645 - val_loss: 0.5664 - val_categorical_accuracy: 0.7847\n",
            "Epoch 7/30\n",
            "1875/1875 [==============================] - 9s 5ms/step - loss: 0.6065 - categorical_accuracy: 0.7748 - val_loss: 0.5581 - val_categorical_accuracy: 0.7982\n",
            "Epoch 8/30\n",
            "1875/1875 [==============================] - 9s 5ms/step - loss: 0.5862 - categorical_accuracy: 0.7824 - val_loss: 0.5360 - val_categorical_accuracy: 0.8054\n",
            "Epoch 9/30\n",
            "1875/1875 [==============================] - 10s 5ms/step - loss: 0.5623 - categorical_accuracy: 0.7916 - val_loss: 0.5092 - val_categorical_accuracy: 0.8117\n",
            "Epoch 10/30\n",
            "1875/1875 [==============================] - 10s 6ms/step - loss: 0.5440 - categorical_accuracy: 0.8003 - val_loss: 0.5022 - val_categorical_accuracy: 0.8175\n",
            "Epoch 11/30\n",
            "1875/1875 [==============================] - 10s 5ms/step - loss: 0.5267 - categorical_accuracy: 0.8069 - val_loss: 0.5187 - val_categorical_accuracy: 0.8135\n",
            "Epoch 12/30\n",
            "1875/1875 [==============================] - 9s 5ms/step - loss: 0.5164 - categorical_accuracy: 0.8118 - val_loss: 0.4711 - val_categorical_accuracy: 0.8337\n",
            "Epoch 13/30\n",
            "1875/1875 [==============================] - 10s 5ms/step - loss: 0.4979 - categorical_accuracy: 0.8196 - val_loss: 0.4571 - val_categorical_accuracy: 0.8303\n",
            "Epoch 14/30\n",
            "1875/1875 [==============================] - 10s 5ms/step - loss: 0.4846 - categorical_accuracy: 0.8249 - val_loss: 0.4451 - val_categorical_accuracy: 0.8422\n",
            "Epoch 15/30\n",
            "1875/1875 [==============================] - 10s 5ms/step - loss: 0.4716 - categorical_accuracy: 0.8307 - val_loss: 0.4178 - val_categorical_accuracy: 0.8542\n",
            "Epoch 16/30\n",
            "1875/1875 [==============================] - 10s 5ms/step - loss: 0.4609 - categorical_accuracy: 0.8350 - val_loss: 0.4114 - val_categorical_accuracy: 0.8578\n",
            "Epoch 17/30\n",
            "1875/1875 [==============================] - 9s 5ms/step - loss: 0.4487 - categorical_accuracy: 0.8397 - val_loss: 0.4034 - val_categorical_accuracy: 0.8599\n",
            "Epoch 18/30\n",
            "1875/1875 [==============================] - 9s 5ms/step - loss: 0.4421 - categorical_accuracy: 0.8419 - val_loss: 0.4041 - val_categorical_accuracy: 0.8581\n",
            "Epoch 19/30\n",
            "1875/1875 [==============================] - 9s 5ms/step - loss: 0.4327 - categorical_accuracy: 0.8461 - val_loss: 0.3981 - val_categorical_accuracy: 0.8617\n",
            "Epoch 20/30\n",
            "1875/1875 [==============================] - 9s 5ms/step - loss: 0.4221 - categorical_accuracy: 0.8500 - val_loss: 0.3994 - val_categorical_accuracy: 0.8600\n",
            "Epoch 21/30\n",
            "1875/1875 [==============================] - 9s 5ms/step - loss: 0.4155 - categorical_accuracy: 0.8535 - val_loss: 0.3950 - val_categorical_accuracy: 0.8599\n",
            "Epoch 22/30\n",
            "1875/1875 [==============================] - 10s 5ms/step - loss: 0.4069 - categorical_accuracy: 0.8570 - val_loss: 0.3738 - val_categorical_accuracy: 0.8685\n",
            "Epoch 23/30\n",
            "1875/1875 [==============================] - 10s 5ms/step - loss: 0.4021 - categorical_accuracy: 0.8584 - val_loss: 0.3840 - val_categorical_accuracy: 0.8681\n",
            "Epoch 24/30\n",
            "1875/1875 [==============================] - 9s 5ms/step - loss: 0.3953 - categorical_accuracy: 0.8604 - val_loss: 0.3819 - val_categorical_accuracy: 0.8646\n",
            "Epoch 25/30\n",
            "1875/1875 [==============================] - 10s 5ms/step - loss: 0.3904 - categorical_accuracy: 0.8632 - val_loss: 0.3814 - val_categorical_accuracy: 0.8609\n",
            "Epoch 26/30\n",
            "1875/1875 [==============================] - 10s 5ms/step - loss: 0.3839 - categorical_accuracy: 0.8643 - val_loss: 0.3694 - val_categorical_accuracy: 0.8670\n",
            "Epoch 27/30\n",
            "1875/1875 [==============================] - 9s 5ms/step - loss: 0.3788 - categorical_accuracy: 0.8676 - val_loss: 0.3714 - val_categorical_accuracy: 0.8674\n",
            "Epoch 28/30\n",
            "1875/1875 [==============================] - 10s 5ms/step - loss: 0.3741 - categorical_accuracy: 0.8696 - val_loss: 0.3515 - val_categorical_accuracy: 0.8748\n",
            "Epoch 29/30\n",
            "1875/1875 [==============================] - 9s 5ms/step - loss: 0.3700 - categorical_accuracy: 0.8723 - val_loss: 0.3608 - val_categorical_accuracy: 0.8715\n",
            "Epoch 30/30\n",
            "1875/1875 [==============================] - 9s 5ms/step - loss: 0.3666 - categorical_accuracy: 0.8718 - val_loss: 0.3821 - val_categorical_accuracy: 0.8597\n"
          ]
        }
      ]
    },
    {
      "cell_type": "markdown",
      "metadata": {
        "id": "0G7lUOLHQEjr"
      },
      "source": [
        "### 訓練過程的評估"
      ]
    },
    {
      "cell_type": "code",
      "metadata": {
        "id": "14YYzYYwcKpE",
        "colab": {
          "base_uri": "https://localhost:8080/",
          "height": 336
        },
        "outputId": "46dfa3aa-c4bc-4ef6-f904-3c346a132a6c"
      },
      "source": [
        "plt.figure(figsize=(10, 5))\n",
        "plt.subplot(1, 2, 1)\n",
        "plt.plot(training_history.history['loss'])\n",
        "plt.plot(training_history.history['val_loss'])\n",
        "plt.legend(['Train', 'Validation'])\n",
        "plt.title(\"Loss\")\n",
        "\n",
        "plt.subplot(1, 2, 2)\n",
        "plt.plot(training_history.history['categorical_accuracy'])\n",
        "plt.plot(training_history.history['val_categorical_accuracy'])\n",
        "plt.legend(['Train', 'Validation'])\n",
        "plt.title(\"Accuracy\");"
      ],
      "execution_count": null,
      "outputs": [
        {
          "output_type": "display_data",
          "data": {
            "text/plain": [
              "<Figure size 720x360 with 2 Axes>"
            ],
            "image/png": "[encoded data removed]"
          },
          "metadata": {
            "needs_background": "light"
          }
        }
      ]
    },
    {
      "cell_type": "code",
      "metadata": {
        "id": "Tb2cXnaV8FHy",
        "colab": {
          "base_uri": "https://localhost:8080/"
        },
        "outputId": "1844eabf-1593-40b2-9a91-c751275ff823"
      },
      "source": [
        "# prediction result on testing data\n",
        "test_loss, test_accuracy = model.evaluate(X_test, y_test)\n",
        "print(\"測試資料 loss: %f\" %test_loss)\n",
        "print(\"測試資料準確率: %f\" %test_accuracy)"
      ],
      "execution_count": null,
      "outputs": [
        {
          "output_type": "stream",
          "name": "stdout",
          "text": [
            "313/313 [==============================] - 1s 3ms/step - loss: 0.3821 - categorical_accuracy: 0.8597\n",
            "測試資料 loss: 0.382097\n",
            "測試資料準確率: 0.859700\n"
          ]
        }
      ]
    },
    {
      "cell_type": "markdown",
      "metadata": {
        "id": "W5Vf7bbrQIQc"
      },
      "source": [
        "## 5: 視覺化預測結果\n",
        "\n",
        "在這部分，我們提供簡單的視覺化方法來呈現神經網路的輸入與輸出結果"
      ]
    },
    {
      "cell_type": "code",
      "metadata": {
        "id": "gsxkNdrn8Foq"
      },
      "source": [
        "def visulization(idx):\n",
        "    # Random pick one data from training set\n",
        "    # idx = np.random.randint(X_train.shape[0])\n",
        "    sample_x = X_test[idx]\n",
        "    sample_y = y_test[idx]\n",
        "    # Predict the class of random data\n",
        "    predict_y = model.predict(X_test[idx:idx+1]).squeeze()\n",
        "    predict_label = predict_y.argmax()\n",
        "\n",
        "    fig, (ax1, ax2) = plt.subplots(1, 2, figsize=(10, 5))\n",
        "    # Plot raw image\n",
        "    ax1.imshow(sample_x[:, :, 0], 'gray_r')\n",
        "    ax1.set_title(\"Image Label: %d\" %sample_y.argmax())\n",
        "\n",
        "    # Plot prediction probability of each classes\n",
        "    ax2.barh(np.arange(10), predict_y)\n",
        "    ax2.patches[predict_label].set_facecolor('Red')\n",
        "    ax2.set_title(\"Prediction Result: %d\" %predict_label);\n",
        "    if sample_y.argmax()==predict_y.argmax():\n",
        "        print(\"預測正確!\")\n",
        "    else:\n",
        "        print(\"預測失敗QQ\")"
      ],
      "execution_count": null,
      "outputs": []
    },
    {
      "cell_type": "code",
      "metadata": {
        "id": "iacX9kxd8Tcg",
        "colab": {
          "base_uri": "https://localhost:8080/",
          "height": 386,
          "referenced_widgets": [
            "97759fb0b13540f3b002b3fbd904f45b",
            "34624a0fc4694281bb594e15f4f2920f",
            "790deb3cf65a41f2ab7e94a43025d13b",
            "54a8732dd8ff4700a24d4315a716908e",
            "5379274b8d0e4494899dbe079c4d4761",
            "1966a8e858b2495a916cd7a4aef43450",
            "778365dd27a1409680d33b5700107304"
          ]
        },
        "outputId": "07b1ac5a-b86e-49a2-cea1-d788471eb04b"
      },
      "source": [
        "#請修改下面一行的value值(0到9999)\n",
        "interact(visulization, idx=BoundedIntText(value=938, min=0, max=X_test.shape[0]-1));"
      ],
      "execution_count": null,
      "outputs": [
        {
          "output_type": "display_data",
          "data": {
            "text/plain": [
              "interactive(children=(BoundedIntText(value=938, description='idx', max=9999), Output()), _dom_classes=('widget…"
            ],
            "application/vnd.jupyter.widget-view+json": {
              "version_major": 2,
              "version_minor": 0,
              "model_id": "97759fb0b13540f3b002b3fbd904f45b"
            }
          },
          "metadata": {}
        }
      ]
    }
  ]
}